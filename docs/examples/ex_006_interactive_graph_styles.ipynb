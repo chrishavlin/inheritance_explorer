{
 "cells": [
  {
   "cell_type": "code",
   "execution_count": 1,
   "id": "02cf8f5a-7b49-42aa-9689-74c015b9264a",
   "metadata": {},
   "outputs": [],
   "source": [
    "from yt.frontends import *\n",
    "from yt.data_objects.static_output import Dataset\n",
    "from inheritance_explorer import ClassGraphTree\n",
    "\n",
    "cgt = ClassGraphTree(Dataset, funcname='_parse_parameter_file')"
   ]
  },
  {
   "cell_type": "code",
   "execution_count": 2,
   "id": "a70029ac-5a0a-4c13-bcbe-03536f8e086b",
   "metadata": {},
   "outputs": [
    {
     "name": "stdout",
     "output_type": "stream",
     "text": [
      "_tmp.html\n"
     ]
    },
    {
     "data": {
      "text/html": [
       "\n",
       "        <iframe\n",
       "            width=\"500px\"\n",
       "            height=\"500px\"\n",
       "            src=\"_tmp.html\"\n",
       "            frameborder=\"0\"\n",
       "            allowfullscreen\n",
       "            \n",
       "        ></iframe>\n",
       "        "
      ],
      "text/plain": [
       "<IPython.lib.display.IFrame at 0x7ff8451998d0>"
      ]
     },
     "execution_count": 2,
     "metadata": {},
     "output_type": "execute_result"
    }
   ],
   "source": [
    "node_style = {'size': 20.0, 'color':'magenta'}\n",
    "edge_style = {'weight': 5}\n",
    "sim_style = {'color': (.5, 1., 1.), 'weight':5}\n",
    "graph = cgt.build_interactive_graph(width=\"500px\",\n",
    "                                    height=\"500px\",\n",
    "                                    bgcolor=(0.98,.98,.98),\n",
    "                                    font_color='black', \n",
    "                                    node_style=node_style, \n",
    "                                    edge_style = edge_style,\n",
    "                                    similarity_edge_style=sim_style, \n",
    "                                    override_node_color='black',\n",
    "                                    cdn_resources='in_line'\n",
    "                                   ) \n",
    "graph.show('_tmp.html')"
   ]
  },
  {
   "cell_type": "code",
   "execution_count": null,
   "id": "7fba449e-7f99-40b7-9cb8-fd0df2f17f79",
   "metadata": {},
   "outputs": [],
   "source": []
  },
  {
   "cell_type": "code",
   "execution_count": null,
   "id": "bc78a8f2-1acb-4d42-9a19-64fbea5842a4",
   "metadata": {},
   "outputs": [],
   "source": []
  }
 ],
 "metadata": {
  "kernelspec": {
   "display_name": "Python 3 (ipykernel)",
   "language": "python",
   "name": "python3"
  },
  "language_info": {
   "codemirror_mode": {
    "name": "ipython",
    "version": 3
   },
   "file_extension": ".py",
   "mimetype": "text/x-python",
   "name": "python",
   "nbconvert_exporter": "python",
   "pygments_lexer": "ipython3",
   "version": "3.10.11"
  }
 },
 "nbformat": 4,
 "nbformat_minor": 5
}
